{
 "cells": [
  {
   "cell_type": "code",
   "execution_count": 1,
   "metadata": {},
   "outputs": [],
   "source": [
    "import pandas as pd\n",
    "import datetime"
   ]
  },
  {
   "cell_type": "code",
   "execution_count": 2,
   "metadata": {},
   "outputs": [],
   "source": [
    "df = pd.read_csv('../data/time_series.csv')"
   ]
  },
  {
   "cell_type": "code",
   "execution_count": 3,
   "metadata": {},
   "outputs": [
    {
     "name": "stdout",
     "output_type": "stream",
     "text": [
      "2023-01-01T00:00:00 <class 'str'>\n"
     ]
    }
   ],
   "source": [
    "print (df.loc[0, 'datetime'], type(df.loc[0, 'datetime']))"
   ]
  },
  {
   "cell_type": "code",
   "execution_count": 4,
   "metadata": {},
   "outputs": [],
   "source": [
    "df['datetime_obj'] = df['datetime'].apply( lambda x: datetime.datetime.fromisoformat(x) )"
   ]
  },
  {
   "cell_type": "code",
   "execution_count": 5,
   "metadata": {},
   "outputs": [],
   "source": [
    "df_weekends = df[ (df['datetime_obj'].dt.weekday == 5 ) | (df['datetime_obj'].dt.weekday == 6) ]"
   ]
  },
  {
   "cell_type": "code",
   "execution_count": 6,
   "metadata": {},
   "outputs": [
    {
     "data": {
      "text/html": [
       "<div>\n",
       "<style scoped>\n",
       "    .dataframe tbody tr th:only-of-type {\n",
       "        vertical-align: middle;\n",
       "    }\n",
       "\n",
       "    .dataframe tbody tr th {\n",
       "        vertical-align: top;\n",
       "    }\n",
       "\n",
       "    .dataframe thead th {\n",
       "        text-align: right;\n",
       "    }\n",
       "</style>\n",
       "<table border=\"1\" class=\"dataframe\">\n",
       "  <thead>\n",
       "    <tr style=\"text-align: right;\">\n",
       "      <th></th>\n",
       "      <th>datetime</th>\n",
       "      <th>value</th>\n",
       "      <th>datetime_obj</th>\n",
       "    </tr>\n",
       "  </thead>\n",
       "  <tbody>\n",
       "    <tr>\n",
       "      <th>5898</th>\n",
       "      <td>2023-09-03T18:00:00</td>\n",
       "      <td>0.035817</td>\n",
       "      <td>2023-09-03 18:00:00</td>\n",
       "    </tr>\n",
       "    <tr>\n",
       "      <th>2529</th>\n",
       "      <td>2023-04-16T09:00:00</td>\n",
       "      <td>0.428645</td>\n",
       "      <td>2023-04-16 09:00:00</td>\n",
       "    </tr>\n",
       "    <tr>\n",
       "      <th>1843</th>\n",
       "      <td>2023-03-18T19:00:00</td>\n",
       "      <td>0.795118</td>\n",
       "      <td>2023-03-18 19:00:00</td>\n",
       "    </tr>\n",
       "    <tr>\n",
       "      <th>6217</th>\n",
       "      <td>2023-09-17T01:00:00</td>\n",
       "      <td>0.751883</td>\n",
       "      <td>2023-09-17 01:00:00</td>\n",
       "    </tr>\n",
       "    <tr>\n",
       "      <th>6718</th>\n",
       "      <td>2023-10-07T22:00:00</td>\n",
       "      <td>0.784816</td>\n",
       "      <td>2023-10-07 22:00:00</td>\n",
       "    </tr>\n",
       "    <tr>\n",
       "      <th>2362</th>\n",
       "      <td>2023-04-09T10:00:00</td>\n",
       "      <td>0.787697</td>\n",
       "      <td>2023-04-09 10:00:00</td>\n",
       "    </tr>\n",
       "    <tr>\n",
       "      <th>5018</th>\n",
       "      <td>2023-07-29T02:00:00</td>\n",
       "      <td>0.502612</td>\n",
       "      <td>2023-07-29 02:00:00</td>\n",
       "    </tr>\n",
       "    <tr>\n",
       "      <th>2361</th>\n",
       "      <td>2023-04-09T09:00:00</td>\n",
       "      <td>0.366089</td>\n",
       "      <td>2023-04-09 09:00:00</td>\n",
       "    </tr>\n",
       "    <tr>\n",
       "      <th>5552</th>\n",
       "      <td>2023-08-20T08:00:00</td>\n",
       "      <td>0.228198</td>\n",
       "      <td>2023-08-20 08:00:00</td>\n",
       "    </tr>\n",
       "    <tr>\n",
       "      <th>7737</th>\n",
       "      <td>2023-11-19T09:00:00</td>\n",
       "      <td>0.219088</td>\n",
       "      <td>2023-11-19 09:00:00</td>\n",
       "    </tr>\n",
       "    <tr>\n",
       "      <th>8739</th>\n",
       "      <td>2023-12-31T03:00:00</td>\n",
       "      <td>0.148782</td>\n",
       "      <td>2023-12-31 03:00:00</td>\n",
       "    </tr>\n",
       "    <tr>\n",
       "      <th>8574</th>\n",
       "      <td>2023-12-24T06:00:00</td>\n",
       "      <td>0.762698</td>\n",
       "      <td>2023-12-24 06:00:00</td>\n",
       "    </tr>\n",
       "    <tr>\n",
       "      <th>1339</th>\n",
       "      <td>2023-02-25T19:00:00</td>\n",
       "      <td>0.136224</td>\n",
       "      <td>2023-02-25 19:00:00</td>\n",
       "    </tr>\n",
       "    <tr>\n",
       "      <th>4054</th>\n",
       "      <td>2023-06-18T22:00:00</td>\n",
       "      <td>0.585104</td>\n",
       "      <td>2023-06-18 22:00:00</td>\n",
       "    </tr>\n",
       "    <tr>\n",
       "      <th>8378</th>\n",
       "      <td>2023-12-16T02:00:00</td>\n",
       "      <td>0.455355</td>\n",
       "      <td>2023-12-16 02:00:00</td>\n",
       "    </tr>\n",
       "    <tr>\n",
       "      <th>5527</th>\n",
       "      <td>2023-08-19T07:00:00</td>\n",
       "      <td>0.351915</td>\n",
       "      <td>2023-08-19 07:00:00</td>\n",
       "    </tr>\n",
       "    <tr>\n",
       "      <th>3523</th>\n",
       "      <td>2023-05-27T19:00:00</td>\n",
       "      <td>0.450192</td>\n",
       "      <td>2023-05-27 19:00:00</td>\n",
       "    </tr>\n",
       "    <tr>\n",
       "      <th>165</th>\n",
       "      <td>2023-01-07T21:00:00</td>\n",
       "      <td>0.736860</td>\n",
       "      <td>2023-01-07 21:00:00</td>\n",
       "    </tr>\n",
       "    <tr>\n",
       "      <th>827</th>\n",
       "      <td>2023-02-04T11:00:00</td>\n",
       "      <td>0.727281</td>\n",
       "      <td>2023-02-04 11:00:00</td>\n",
       "    </tr>\n",
       "    <tr>\n",
       "      <th>8412</th>\n",
       "      <td>2023-12-17T12:00:00</td>\n",
       "      <td>0.456512</td>\n",
       "      <td>2023-12-17 12:00:00</td>\n",
       "    </tr>\n",
       "  </tbody>\n",
       "</table>\n",
       "</div>"
      ],
      "text/plain": [
       "                 datetime     value        datetime_obj\n",
       "5898  2023-09-03T18:00:00  0.035817 2023-09-03 18:00:00\n",
       "2529  2023-04-16T09:00:00  0.428645 2023-04-16 09:00:00\n",
       "1843  2023-03-18T19:00:00  0.795118 2023-03-18 19:00:00\n",
       "6217  2023-09-17T01:00:00  0.751883 2023-09-17 01:00:00\n",
       "6718  2023-10-07T22:00:00  0.784816 2023-10-07 22:00:00\n",
       "2362  2023-04-09T10:00:00  0.787697 2023-04-09 10:00:00\n",
       "5018  2023-07-29T02:00:00  0.502612 2023-07-29 02:00:00\n",
       "2361  2023-04-09T09:00:00  0.366089 2023-04-09 09:00:00\n",
       "5552  2023-08-20T08:00:00  0.228198 2023-08-20 08:00:00\n",
       "7737  2023-11-19T09:00:00  0.219088 2023-11-19 09:00:00\n",
       "8739  2023-12-31T03:00:00  0.148782 2023-12-31 03:00:00\n",
       "8574  2023-12-24T06:00:00  0.762698 2023-12-24 06:00:00\n",
       "1339  2023-02-25T19:00:00  0.136224 2023-02-25 19:00:00\n",
       "4054  2023-06-18T22:00:00  0.585104 2023-06-18 22:00:00\n",
       "8378  2023-12-16T02:00:00  0.455355 2023-12-16 02:00:00\n",
       "5527  2023-08-19T07:00:00  0.351915 2023-08-19 07:00:00\n",
       "3523  2023-05-27T19:00:00  0.450192 2023-05-27 19:00:00\n",
       "165   2023-01-07T21:00:00  0.736860 2023-01-07 21:00:00\n",
       "827   2023-02-04T11:00:00  0.727281 2023-02-04 11:00:00\n",
       "8412  2023-12-17T12:00:00  0.456512 2023-12-17 12:00:00"
      ]
     },
     "execution_count": 6,
     "metadata": {},
     "output_type": "execute_result"
    }
   ],
   "source": [
    "df_weekends.sample(20)"
   ]
  },
  {
   "cell_type": "code",
   "execution_count": 7,
   "metadata": {},
   "outputs": [],
   "source": [
    "df_weekends_evening = df_weekends[ (df_weekends['datetime_obj'].dt.hour >= 18) & (df_weekends['datetime_obj'].dt.hour < 22) ]"
   ]
  },
  {
   "cell_type": "code",
   "execution_count": 8,
   "metadata": {},
   "outputs": [
    {
     "data": {
      "text/html": [
       "<div>\n",
       "<style scoped>\n",
       "    .dataframe tbody tr th:only-of-type {\n",
       "        vertical-align: middle;\n",
       "    }\n",
       "\n",
       "    .dataframe tbody tr th {\n",
       "        vertical-align: top;\n",
       "    }\n",
       "\n",
       "    .dataframe thead th {\n",
       "        text-align: right;\n",
       "    }\n",
       "</style>\n",
       "<table border=\"1\" class=\"dataframe\">\n",
       "  <thead>\n",
       "    <tr style=\"text-align: right;\">\n",
       "      <th></th>\n",
       "      <th>datetime</th>\n",
       "      <th>value</th>\n",
       "      <th>datetime_obj</th>\n",
       "    </tr>\n",
       "  </thead>\n",
       "  <tbody>\n",
       "    <tr>\n",
       "      <th>18</th>\n",
       "      <td>2023-01-01T18:00:00</td>\n",
       "      <td>0.058814</td>\n",
       "      <td>2023-01-01 18:00:00</td>\n",
       "    </tr>\n",
       "    <tr>\n",
       "      <th>19</th>\n",
       "      <td>2023-01-01T19:00:00</td>\n",
       "      <td>0.359729</td>\n",
       "      <td>2023-01-01 19:00:00</td>\n",
       "    </tr>\n",
       "    <tr>\n",
       "      <th>20</th>\n",
       "      <td>2023-01-01T20:00:00</td>\n",
       "      <td>0.359829</td>\n",
       "      <td>2023-01-01 20:00:00</td>\n",
       "    </tr>\n",
       "    <tr>\n",
       "      <th>21</th>\n",
       "      <td>2023-01-01T21:00:00</td>\n",
       "      <td>0.055348</td>\n",
       "      <td>2023-01-01 21:00:00</td>\n",
       "    </tr>\n",
       "    <tr>\n",
       "      <th>162</th>\n",
       "      <td>2023-01-07T18:00:00</td>\n",
       "      <td>0.562734</td>\n",
       "      <td>2023-01-07 18:00:00</td>\n",
       "    </tr>\n",
       "    <tr>\n",
       "      <th>...</th>\n",
       "      <td>...</td>\n",
       "      <td>...</td>\n",
       "      <td>...</td>\n",
       "    </tr>\n",
       "    <tr>\n",
       "      <th>8733</th>\n",
       "      <td>2023-12-30T21:00:00</td>\n",
       "      <td>0.032334</td>\n",
       "      <td>2023-12-30 21:00:00</td>\n",
       "    </tr>\n",
       "    <tr>\n",
       "      <th>8754</th>\n",
       "      <td>2023-12-31T18:00:00</td>\n",
       "      <td>0.394590</td>\n",
       "      <td>2023-12-31 18:00:00</td>\n",
       "    </tr>\n",
       "    <tr>\n",
       "      <th>8755</th>\n",
       "      <td>2023-12-31T19:00:00</td>\n",
       "      <td>0.976667</td>\n",
       "      <td>2023-12-31 19:00:00</td>\n",
       "    </tr>\n",
       "    <tr>\n",
       "      <th>8756</th>\n",
       "      <td>2023-12-31T20:00:00</td>\n",
       "      <td>0.373427</td>\n",
       "      <td>2023-12-31 20:00:00</td>\n",
       "    </tr>\n",
       "    <tr>\n",
       "      <th>8757</th>\n",
       "      <td>2023-12-31T21:00:00</td>\n",
       "      <td>0.710711</td>\n",
       "      <td>2023-12-31 21:00:00</td>\n",
       "    </tr>\n",
       "  </tbody>\n",
       "</table>\n",
       "<p>420 rows × 3 columns</p>\n",
       "</div>"
      ],
      "text/plain": [
       "                 datetime     value        datetime_obj\n",
       "18    2023-01-01T18:00:00  0.058814 2023-01-01 18:00:00\n",
       "19    2023-01-01T19:00:00  0.359729 2023-01-01 19:00:00\n",
       "20    2023-01-01T20:00:00  0.359829 2023-01-01 20:00:00\n",
       "21    2023-01-01T21:00:00  0.055348 2023-01-01 21:00:00\n",
       "162   2023-01-07T18:00:00  0.562734 2023-01-07 18:00:00\n",
       "...                   ...       ...                 ...\n",
       "8733  2023-12-30T21:00:00  0.032334 2023-12-30 21:00:00\n",
       "8754  2023-12-31T18:00:00  0.394590 2023-12-31 18:00:00\n",
       "8755  2023-12-31T19:00:00  0.976667 2023-12-31 19:00:00\n",
       "8756  2023-12-31T20:00:00  0.373427 2023-12-31 20:00:00\n",
       "8757  2023-12-31T21:00:00  0.710711 2023-12-31 21:00:00\n",
       "\n",
       "[420 rows x 3 columns]"
      ]
     },
     "execution_count": 8,
     "metadata": {},
     "output_type": "execute_result"
    }
   ],
   "source": [
    "df_weekends_evening"
   ]
  },
  {
   "cell_type": "code",
   "execution_count": 9,
   "metadata": {},
   "outputs": [
    {
     "data": {
      "text/plain": [
       "205.99073693078734"
      ]
     },
     "execution_count": 9,
     "metadata": {},
     "output_type": "execute_result"
    }
   ],
   "source": [
    "df_weekends_evening['value'].sum()"
   ]
  },
  {
   "cell_type": "code",
   "execution_count": 10,
   "metadata": {},
   "outputs": [
    {
     "data": {
      "text/plain": [
       "206"
      ]
     },
     "execution_count": 10,
     "metadata": {},
     "output_type": "execute_result"
    }
   ],
   "source": [
    "round(df_weekends_evening['value'].sum())"
   ]
  }
 ],
 "metadata": {
  "kernelspec": {
   "display_name": "Python 3",
   "language": "python",
   "name": "python3"
  },
  "language_info": {
   "codemirror_mode": {
    "name": "ipython",
    "version": 3
   },
   "file_extension": ".py",
   "mimetype": "text/x-python",
   "name": "python",
   "nbconvert_exporter": "python",
   "pygments_lexer": "ipython3",
   "version": "3.12.0"
  }
 },
 "nbformat": 4,
 "nbformat_minor": 2
}
