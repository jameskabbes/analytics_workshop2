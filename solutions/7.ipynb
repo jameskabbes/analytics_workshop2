{
 "cells": [
  {
   "cell_type": "code",
   "execution_count": 1,
   "metadata": {},
   "outputs": [],
   "source": [
    "import pandas as pd\n",
    "import datetime"
   ]
  },
  {
   "cell_type": "code",
   "execution_count": 2,
   "metadata": {},
   "outputs": [],
   "source": [
    "df = pd.read_csv('../data/time_series.csv')"
   ]
  },
  {
   "cell_type": "code",
   "execution_count": 3,
   "metadata": {},
   "outputs": [
    {
     "name": "stdout",
     "output_type": "stream",
     "text": [
      "2023-01-01T00:00:00 <class 'str'>\n"
     ]
    }
   ],
   "source": [
    "print (df.loc[0, 'datetime'], type(df.loc[0, 'datetime']))"
   ]
  },
  {
   "cell_type": "code",
   "execution_count": 4,
   "metadata": {},
   "outputs": [],
   "source": [
    "df['datetime_obj'] = df['datetime'].apply( lambda x: datetime.datetime.fromisoformat(x) )"
   ]
  },
  {
   "cell_type": "code",
   "execution_count": 5,
   "metadata": {},
   "outputs": [],
   "source": [
    "df_weekends = df[ (df['datetime_obj'].dt.weekday == 5 ) | (df['datetime_obj'].dt.weekday == 6) ]"
   ]
  },
  {
   "cell_type": "code",
   "execution_count": 6,
   "metadata": {},
   "outputs": [
    {
     "data": {
      "text/html": [
       "<div>\n",
       "<style scoped>\n",
       "    .dataframe tbody tr th:only-of-type {\n",
       "        vertical-align: middle;\n",
       "    }\n",
       "\n",
       "    .dataframe tbody tr th {\n",
       "        vertical-align: top;\n",
       "    }\n",
       "\n",
       "    .dataframe thead th {\n",
       "        text-align: right;\n",
       "    }\n",
       "</style>\n",
       "<table border=\"1\" class=\"dataframe\">\n",
       "  <thead>\n",
       "    <tr style=\"text-align: right;\">\n",
       "      <th></th>\n",
       "      <th>datetime</th>\n",
       "      <th>value</th>\n",
       "      <th>datetime_obj</th>\n",
       "    </tr>\n",
       "  </thead>\n",
       "  <tbody>\n",
       "    <tr>\n",
       "      <th>6395</th>\n",
       "      <td>2023-09-24T11:00:00</td>\n",
       "      <td>0.746253</td>\n",
       "      <td>2023-09-24 11:00:00</td>\n",
       "    </tr>\n",
       "    <tr>\n",
       "      <th>4042</th>\n",
       "      <td>2023-06-18T10:00:00</td>\n",
       "      <td>0.513430</td>\n",
       "      <td>2023-06-18 10:00:00</td>\n",
       "    </tr>\n",
       "    <tr>\n",
       "      <th>150</th>\n",
       "      <td>2023-01-07T06:00:00</td>\n",
       "      <td>0.726191</td>\n",
       "      <td>2023-01-07 06:00:00</td>\n",
       "    </tr>\n",
       "    <tr>\n",
       "      <th>5557</th>\n",
       "      <td>2023-08-20T13:00:00</td>\n",
       "      <td>0.924251</td>\n",
       "      <td>2023-08-20 13:00:00</td>\n",
       "    </tr>\n",
       "    <tr>\n",
       "      <th>3515</th>\n",
       "      <td>2023-05-27T11:00:00</td>\n",
       "      <td>0.703239</td>\n",
       "      <td>2023-05-27 11:00:00</td>\n",
       "    </tr>\n",
       "    <tr>\n",
       "      <th>7705</th>\n",
       "      <td>2023-11-18T01:00:00</td>\n",
       "      <td>0.277934</td>\n",
       "      <td>2023-11-18 01:00:00</td>\n",
       "    </tr>\n",
       "    <tr>\n",
       "      <th>3879</th>\n",
       "      <td>2023-06-11T15:00:00</td>\n",
       "      <td>0.644147</td>\n",
       "      <td>2023-06-11 15:00:00</td>\n",
       "    </tr>\n",
       "    <tr>\n",
       "      <th>5708</th>\n",
       "      <td>2023-08-26T20:00:00</td>\n",
       "      <td>0.638331</td>\n",
       "      <td>2023-08-26 20:00:00</td>\n",
       "    </tr>\n",
       "    <tr>\n",
       "      <th>5191</th>\n",
       "      <td>2023-08-05T07:00:00</td>\n",
       "      <td>0.679162</td>\n",
       "      <td>2023-08-05 07:00:00</td>\n",
       "    </tr>\n",
       "    <tr>\n",
       "      <th>8073</th>\n",
       "      <td>2023-12-03T09:00:00</td>\n",
       "      <td>0.990994</td>\n",
       "      <td>2023-12-03 09:00:00</td>\n",
       "    </tr>\n",
       "    <tr>\n",
       "      <th>4189</th>\n",
       "      <td>2023-06-24T13:00:00</td>\n",
       "      <td>0.380574</td>\n",
       "      <td>2023-06-24 13:00:00</td>\n",
       "    </tr>\n",
       "    <tr>\n",
       "      <th>5530</th>\n",
       "      <td>2023-08-19T10:00:00</td>\n",
       "      <td>0.419379</td>\n",
       "      <td>2023-08-19 10:00:00</td>\n",
       "    </tr>\n",
       "    <tr>\n",
       "      <th>2360</th>\n",
       "      <td>2023-04-09T08:00:00</td>\n",
       "      <td>0.607861</td>\n",
       "      <td>2023-04-09 08:00:00</td>\n",
       "    </tr>\n",
       "    <tr>\n",
       "      <th>7230</th>\n",
       "      <td>2023-10-29T06:00:00</td>\n",
       "      <td>0.542193</td>\n",
       "      <td>2023-10-29 06:00:00</td>\n",
       "    </tr>\n",
       "    <tr>\n",
       "      <th>2530</th>\n",
       "      <td>2023-04-16T10:00:00</td>\n",
       "      <td>0.506184</td>\n",
       "      <td>2023-04-16 10:00:00</td>\n",
       "    </tr>\n",
       "    <tr>\n",
       "      <th>3382</th>\n",
       "      <td>2023-05-21T22:00:00</td>\n",
       "      <td>0.365190</td>\n",
       "      <td>2023-05-21 22:00:00</td>\n",
       "    </tr>\n",
       "    <tr>\n",
       "      <th>3192</th>\n",
       "      <td>2023-05-14T00:00:00</td>\n",
       "      <td>0.031719</td>\n",
       "      <td>2023-05-14 00:00:00</td>\n",
       "    </tr>\n",
       "    <tr>\n",
       "      <th>2172</th>\n",
       "      <td>2023-04-01T12:00:00</td>\n",
       "      <td>0.445959</td>\n",
       "      <td>2023-04-01 12:00:00</td>\n",
       "    </tr>\n",
       "    <tr>\n",
       "      <th>817</th>\n",
       "      <td>2023-02-04T01:00:00</td>\n",
       "      <td>0.370060</td>\n",
       "      <td>2023-02-04 01:00:00</td>\n",
       "    </tr>\n",
       "    <tr>\n",
       "      <th>5859</th>\n",
       "      <td>2023-09-02T03:00:00</td>\n",
       "      <td>0.333731</td>\n",
       "      <td>2023-09-02 03:00:00</td>\n",
       "    </tr>\n",
       "  </tbody>\n",
       "</table>\n",
       "</div>"
      ],
      "text/plain": [
       "                 datetime     value        datetime_obj\n",
       "6395  2023-09-24T11:00:00  0.746253 2023-09-24 11:00:00\n",
       "4042  2023-06-18T10:00:00  0.513430 2023-06-18 10:00:00\n",
       "150   2023-01-07T06:00:00  0.726191 2023-01-07 06:00:00\n",
       "5557  2023-08-20T13:00:00  0.924251 2023-08-20 13:00:00\n",
       "3515  2023-05-27T11:00:00  0.703239 2023-05-27 11:00:00\n",
       "7705  2023-11-18T01:00:00  0.277934 2023-11-18 01:00:00\n",
       "3879  2023-06-11T15:00:00  0.644147 2023-06-11 15:00:00\n",
       "5708  2023-08-26T20:00:00  0.638331 2023-08-26 20:00:00\n",
       "5191  2023-08-05T07:00:00  0.679162 2023-08-05 07:00:00\n",
       "8073  2023-12-03T09:00:00  0.990994 2023-12-03 09:00:00\n",
       "4189  2023-06-24T13:00:00  0.380574 2023-06-24 13:00:00\n",
       "5530  2023-08-19T10:00:00  0.419379 2023-08-19 10:00:00\n",
       "2360  2023-04-09T08:00:00  0.607861 2023-04-09 08:00:00\n",
       "7230  2023-10-29T06:00:00  0.542193 2023-10-29 06:00:00\n",
       "2530  2023-04-16T10:00:00  0.506184 2023-04-16 10:00:00\n",
       "3382  2023-05-21T22:00:00  0.365190 2023-05-21 22:00:00\n",
       "3192  2023-05-14T00:00:00  0.031719 2023-05-14 00:00:00\n",
       "2172  2023-04-01T12:00:00  0.445959 2023-04-01 12:00:00\n",
       "817   2023-02-04T01:00:00  0.370060 2023-02-04 01:00:00\n",
       "5859  2023-09-02T03:00:00  0.333731 2023-09-02 03:00:00"
      ]
     },
     "execution_count": 6,
     "metadata": {},
     "output_type": "execute_result"
    }
   ],
   "source": [
    "df_weekends.sample(20)"
   ]
  },
  {
   "cell_type": "code",
   "execution_count": 7,
   "metadata": {},
   "outputs": [],
   "source": [
    "df_weekends_evening = df_weekends[ (df_weekends['datetime_obj'].dt.hour >= 18) & (df_weekends['datetime_obj'].dt.hour < 22) ]"
   ]
  },
  {
   "cell_type": "code",
   "execution_count": 8,
   "metadata": {},
   "outputs": [
    {
     "data": {
      "text/html": [
       "<div>\n",
       "<style scoped>\n",
       "    .dataframe tbody tr th:only-of-type {\n",
       "        vertical-align: middle;\n",
       "    }\n",
       "\n",
       "    .dataframe tbody tr th {\n",
       "        vertical-align: top;\n",
       "    }\n",
       "\n",
       "    .dataframe thead th {\n",
       "        text-align: right;\n",
       "    }\n",
       "</style>\n",
       "<table border=\"1\" class=\"dataframe\">\n",
       "  <thead>\n",
       "    <tr style=\"text-align: right;\">\n",
       "      <th></th>\n",
       "      <th>datetime</th>\n",
       "      <th>value</th>\n",
       "      <th>datetime_obj</th>\n",
       "    </tr>\n",
       "  </thead>\n",
       "  <tbody>\n",
       "    <tr>\n",
       "      <th>18</th>\n",
       "      <td>2023-01-01T18:00:00</td>\n",
       "      <td>0.058814</td>\n",
       "      <td>2023-01-01 18:00:00</td>\n",
       "    </tr>\n",
       "    <tr>\n",
       "      <th>19</th>\n",
       "      <td>2023-01-01T19:00:00</td>\n",
       "      <td>0.359729</td>\n",
       "      <td>2023-01-01 19:00:00</td>\n",
       "    </tr>\n",
       "    <tr>\n",
       "      <th>20</th>\n",
       "      <td>2023-01-01T20:00:00</td>\n",
       "      <td>0.359829</td>\n",
       "      <td>2023-01-01 20:00:00</td>\n",
       "    </tr>\n",
       "    <tr>\n",
       "      <th>21</th>\n",
       "      <td>2023-01-01T21:00:00</td>\n",
       "      <td>0.055348</td>\n",
       "      <td>2023-01-01 21:00:00</td>\n",
       "    </tr>\n",
       "    <tr>\n",
       "      <th>162</th>\n",
       "      <td>2023-01-07T18:00:00</td>\n",
       "      <td>0.562734</td>\n",
       "      <td>2023-01-07 18:00:00</td>\n",
       "    </tr>\n",
       "    <tr>\n",
       "      <th>...</th>\n",
       "      <td>...</td>\n",
       "      <td>...</td>\n",
       "      <td>...</td>\n",
       "    </tr>\n",
       "    <tr>\n",
       "      <th>8733</th>\n",
       "      <td>2023-12-30T21:00:00</td>\n",
       "      <td>0.032334</td>\n",
       "      <td>2023-12-30 21:00:00</td>\n",
       "    </tr>\n",
       "    <tr>\n",
       "      <th>8754</th>\n",
       "      <td>2023-12-31T18:00:00</td>\n",
       "      <td>0.394590</td>\n",
       "      <td>2023-12-31 18:00:00</td>\n",
       "    </tr>\n",
       "    <tr>\n",
       "      <th>8755</th>\n",
       "      <td>2023-12-31T19:00:00</td>\n",
       "      <td>0.976667</td>\n",
       "      <td>2023-12-31 19:00:00</td>\n",
       "    </tr>\n",
       "    <tr>\n",
       "      <th>8756</th>\n",
       "      <td>2023-12-31T20:00:00</td>\n",
       "      <td>0.373427</td>\n",
       "      <td>2023-12-31 20:00:00</td>\n",
       "    </tr>\n",
       "    <tr>\n",
       "      <th>8757</th>\n",
       "      <td>2023-12-31T21:00:00</td>\n",
       "      <td>0.710711</td>\n",
       "      <td>2023-12-31 21:00:00</td>\n",
       "    </tr>\n",
       "  </tbody>\n",
       "</table>\n",
       "<p>420 rows × 3 columns</p>\n",
       "</div>"
      ],
      "text/plain": [
       "                 datetime     value        datetime_obj\n",
       "18    2023-01-01T18:00:00  0.058814 2023-01-01 18:00:00\n",
       "19    2023-01-01T19:00:00  0.359729 2023-01-01 19:00:00\n",
       "20    2023-01-01T20:00:00  0.359829 2023-01-01 20:00:00\n",
       "21    2023-01-01T21:00:00  0.055348 2023-01-01 21:00:00\n",
       "162   2023-01-07T18:00:00  0.562734 2023-01-07 18:00:00\n",
       "...                   ...       ...                 ...\n",
       "8733  2023-12-30T21:00:00  0.032334 2023-12-30 21:00:00\n",
       "8754  2023-12-31T18:00:00  0.394590 2023-12-31 18:00:00\n",
       "8755  2023-12-31T19:00:00  0.976667 2023-12-31 19:00:00\n",
       "8756  2023-12-31T20:00:00  0.373427 2023-12-31 20:00:00\n",
       "8757  2023-12-31T21:00:00  0.710711 2023-12-31 21:00:00\n",
       "\n",
       "[420 rows x 3 columns]"
      ]
     },
     "execution_count": 8,
     "metadata": {},
     "output_type": "execute_result"
    }
   ],
   "source": [
    "df_weekends_evening"
   ]
  },
  {
   "cell_type": "code",
   "execution_count": 9,
   "metadata": {},
   "outputs": [
    {
     "data": {
      "text/plain": [
       "205.99073693078734"
      ]
     },
     "execution_count": 9,
     "metadata": {},
     "output_type": "execute_result"
    }
   ],
   "source": [
    "df_weekends_evening['value'].sum()"
   ]
  },
  {
   "cell_type": "code",
   "execution_count": 10,
   "metadata": {},
   "outputs": [
    {
     "data": {
      "text/plain": [
       "206"
      ]
     },
     "execution_count": 10,
     "metadata": {},
     "output_type": "execute_result"
    }
   ],
   "source": [
    "round(df_weekends_evening['value'].sum())"
   ]
  }
 ],
 "metadata": {
  "kernelspec": {
   "display_name": "Python 3",
   "language": "python",
   "name": "python3"
  },
  "language_info": {
   "codemirror_mode": {
    "name": "ipython",
    "version": 3
   },
   "file_extension": ".py",
   "mimetype": "text/x-python",
   "name": "python",
   "nbconvert_exporter": "python",
   "pygments_lexer": "ipython3",
   "version": "3.12.0"
  }
 },
 "nbformat": 4,
 "nbformat_minor": 2
}
