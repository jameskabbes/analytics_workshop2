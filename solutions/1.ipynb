{
 "cells": [
  {
   "cell_type": "code",
   "execution_count": 1,
   "metadata": {},
   "outputs": [],
   "source": [
    "def is_prime(number: int, prev_primes: list[int] = []) -> bool:\n",
    "\n",
    "    number_sqrt = number ** 0.5\n",
    "\n",
    "    for prev_prime in prev_primes:\n",
    "\n",
    "        # don't bother checking numbers greater than the square root\n",
    "        if prev_prime > number_sqrt:\n",
    "            return True\n",
    "\n",
    "        # if the number is divisible by a previous prime number, it is not prime\n",
    "        if number % prev_prime == 0:\n",
    "            return False\n",
    "\n",
    "    return True"
   ]
  },
  {
   "cell_type": "code",
   "execution_count": 2,
   "metadata": {},
   "outputs": [],
   "source": [
    "def find_nth_prime(n: int):\n",
    "\n",
    "    number = 2\n",
    "    primes = []\n",
    "\n",
    "    while len(primes) < n:\n",
    "\n",
    "        if is_prime(number, prev_primes=primes):\n",
    "            primes.append(number)\n",
    "\n",
    "        number += 1\n",
    "\n",
    "    # print(primes)\n",
    "    return primes[-1]"
   ]
  },
  {
   "cell_type": "code",
   "execution_count": 3,
   "metadata": {},
   "outputs": [
    {
     "name": "stdout",
     "output_type": "stream",
     "text": [
      "7368787\n",
      "Completed in 8.682907104492188 seconds\n"
     ]
    }
   ],
   "source": [
    "import time\n",
    "\n",
    "start_time = time.time()\n",
    "print(find_nth_prime(500000))\n",
    "print ('Completed in {} seconds'.format( time.time() - start_time ))"
   ]
  }
 ],
 "metadata": {
  "kernelspec": {
   "display_name": "Python 3",
   "language": "python",
   "name": "python3"
  },
  "language_info": {
   "codemirror_mode": {
    "name": "ipython",
    "version": 3
   },
   "file_extension": ".py",
   "mimetype": "text/x-python",
   "name": "python",
   "nbconvert_exporter": "python",
   "pygments_lexer": "ipython3",
   "version": "3.12.0"
  }
 },
 "nbformat": 4,
 "nbformat_minor": 2
}
