{
 "cells": [
  {
   "cell_type": "code",
   "execution_count": 1,
   "metadata": {},
   "outputs": [],
   "source": [
    "import pandas as pd\n",
    "import datetime"
   ]
  },
  {
   "cell_type": "code",
   "execution_count": 2,
   "metadata": {},
   "outputs": [],
   "source": [
    "df = pd.read_csv('../data/time_series.csv')"
   ]
  },
  {
   "cell_type": "code",
   "execution_count": 3,
   "metadata": {},
   "outputs": [
    {
     "name": "stdout",
     "output_type": "stream",
     "text": [
      "2023-01-01T00:00:00 <class 'str'>\n"
     ]
    }
   ],
   "source": [
    "print (df.loc[0, 'datetime'], type(df.loc[0, 'datetime']))"
   ]
  },
  {
   "cell_type": "code",
   "execution_count": 4,
   "metadata": {},
   "outputs": [],
   "source": [
    "df['datetime_obj'] = df['datetime'].apply( lambda x: datetime.datetime.fromisoformat(x) )"
   ]
  },
  {
   "cell_type": "code",
   "execution_count": 5,
   "metadata": {},
   "outputs": [],
   "source": [
    "df_tuesday = df[df['datetime_obj'].dt.weekday == 1]"
   ]
  },
  {
   "cell_type": "code",
   "execution_count": 6,
   "metadata": {},
   "outputs": [
    {
     "data": {
      "text/html": [
       "<div>\n",
       "<style scoped>\n",
       "    .dataframe tbody tr th:only-of-type {\n",
       "        vertical-align: middle;\n",
       "    }\n",
       "\n",
       "    .dataframe tbody tr th {\n",
       "        vertical-align: top;\n",
       "    }\n",
       "\n",
       "    .dataframe thead th {\n",
       "        text-align: right;\n",
       "    }\n",
       "</style>\n",
       "<table border=\"1\" class=\"dataframe\">\n",
       "  <thead>\n",
       "    <tr style=\"text-align: right;\">\n",
       "      <th></th>\n",
       "      <th>datetime</th>\n",
       "      <th>value</th>\n",
       "      <th>datetime_obj</th>\n",
       "    </tr>\n",
       "  </thead>\n",
       "  <tbody>\n",
       "    <tr>\n",
       "      <th>6114</th>\n",
       "      <td>2023-09-12T18:00:00</td>\n",
       "      <td>0.761885</td>\n",
       "      <td>2023-09-12 18:00:00</td>\n",
       "    </tr>\n",
       "    <tr>\n",
       "      <th>4754</th>\n",
       "      <td>2023-07-18T02:00:00</td>\n",
       "      <td>0.513036</td>\n",
       "      <td>2023-07-18 02:00:00</td>\n",
       "    </tr>\n",
       "    <tr>\n",
       "      <th>2085</th>\n",
       "      <td>2023-03-28T21:00:00</td>\n",
       "      <td>0.104943</td>\n",
       "      <td>2023-03-28 21:00:00</td>\n",
       "    </tr>\n",
       "    <tr>\n",
       "      <th>59</th>\n",
       "      <td>2023-01-03T11:00:00</td>\n",
       "      <td>0.251107</td>\n",
       "      <td>2023-01-03 11:00:00</td>\n",
       "    </tr>\n",
       "    <tr>\n",
       "      <th>6602</th>\n",
       "      <td>2023-10-03T02:00:00</td>\n",
       "      <td>0.809938</td>\n",
       "      <td>2023-10-03 02:00:00</td>\n",
       "    </tr>\n",
       "    <tr>\n",
       "      <th>3259</th>\n",
       "      <td>2023-05-16T19:00:00</td>\n",
       "      <td>0.389810</td>\n",
       "      <td>2023-05-16 19:00:00</td>\n",
       "    </tr>\n",
       "    <tr>\n",
       "      <th>8301</th>\n",
       "      <td>2023-12-12T21:00:00</td>\n",
       "      <td>0.181678</td>\n",
       "      <td>2023-12-12 21:00:00</td>\n",
       "    </tr>\n",
       "    <tr>\n",
       "      <th>1915</th>\n",
       "      <td>2023-03-21T19:00:00</td>\n",
       "      <td>0.838741</td>\n",
       "      <td>2023-03-21 19:00:00</td>\n",
       "    </tr>\n",
       "    <tr>\n",
       "      <th>3083</th>\n",
       "      <td>2023-05-09T11:00:00</td>\n",
       "      <td>0.851279</td>\n",
       "      <td>2023-05-09 11:00:00</td>\n",
       "    </tr>\n",
       "    <tr>\n",
       "      <th>3079</th>\n",
       "      <td>2023-05-09T07:00:00</td>\n",
       "      <td>0.285371</td>\n",
       "      <td>2023-05-09 07:00:00</td>\n",
       "    </tr>\n",
       "  </tbody>\n",
       "</table>\n",
       "</div>"
      ],
      "text/plain": [
       "                 datetime     value        datetime_obj\n",
       "6114  2023-09-12T18:00:00  0.761885 2023-09-12 18:00:00\n",
       "4754  2023-07-18T02:00:00  0.513036 2023-07-18 02:00:00\n",
       "2085  2023-03-28T21:00:00  0.104943 2023-03-28 21:00:00\n",
       "59    2023-01-03T11:00:00  0.251107 2023-01-03 11:00:00\n",
       "6602  2023-10-03T02:00:00  0.809938 2023-10-03 02:00:00\n",
       "3259  2023-05-16T19:00:00  0.389810 2023-05-16 19:00:00\n",
       "8301  2023-12-12T21:00:00  0.181678 2023-12-12 21:00:00\n",
       "1915  2023-03-21T19:00:00  0.838741 2023-03-21 19:00:00\n",
       "3083  2023-05-09T11:00:00  0.851279 2023-05-09 11:00:00\n",
       "3079  2023-05-09T07:00:00  0.285371 2023-05-09 07:00:00"
      ]
     },
     "execution_count": 6,
     "metadata": {},
     "output_type": "execute_result"
    }
   ],
   "source": [
    "df_tuesday.sample(10)"
   ]
  },
  {
   "cell_type": "code",
   "execution_count": 7,
   "metadata": {},
   "outputs": [
    {
     "data": {
      "text/plain": [
       "624.257497129683"
      ]
     },
     "execution_count": 7,
     "metadata": {},
     "output_type": "execute_result"
    }
   ],
   "source": [
    "df_tuesday['value'].sum()"
   ]
  },
  {
   "cell_type": "code",
   "execution_count": 8,
   "metadata": {},
   "outputs": [
    {
     "data": {
      "text/plain": [
       "624"
      ]
     },
     "execution_count": 8,
     "metadata": {},
     "output_type": "execute_result"
    }
   ],
   "source": [
    "round(df_tuesday['value'].sum())"
   ]
  }
 ],
 "metadata": {
  "kernelspec": {
   "display_name": "Python 3",
   "language": "python",
   "name": "python3"
  },
  "language_info": {
   "codemirror_mode": {
    "name": "ipython",
    "version": 3
   },
   "file_extension": ".py",
   "mimetype": "text/x-python",
   "name": "python",
   "nbconvert_exporter": "python",
   "pygments_lexer": "ipython3",
   "version": "3.12.0"
  }
 },
 "nbformat": 4,
 "nbformat_minor": 2
}
