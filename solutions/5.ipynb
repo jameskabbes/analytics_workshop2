{
 "cells": [
  {
   "cell_type": "code",
   "execution_count": 1,
   "metadata": {},
   "outputs": [],
   "source": [
    "import pandas as pd\n",
    "import datetime"
   ]
  },
  {
   "cell_type": "code",
   "execution_count": 2,
   "metadata": {},
   "outputs": [],
   "source": [
    "df = pd.read_csv('../data/time_series.csv')"
   ]
  },
  {
   "cell_type": "code",
   "execution_count": 3,
   "metadata": {},
   "outputs": [
    {
     "name": "stdout",
     "output_type": "stream",
     "text": [
      "2023-01-01T00:00:00 <class 'str'>\n"
     ]
    }
   ],
   "source": [
    "print (df.loc[0, 'datetime'], type(df.loc[0, 'datetime']))"
   ]
  },
  {
   "cell_type": "code",
   "execution_count": 4,
   "metadata": {},
   "outputs": [],
   "source": [
    "df['datetime_obj'] = df['datetime'].apply( lambda x: datetime.datetime.fromisoformat(x) )"
   ]
  },
  {
   "cell_type": "code",
   "execution_count": 5,
   "metadata": {},
   "outputs": [],
   "source": [
    "df_tuesday = df[df['datetime_obj'].dt.weekday == 1]"
   ]
  },
  {
   "cell_type": "code",
   "execution_count": 8,
   "metadata": {},
   "outputs": [
    {
     "data": {
      "text/html": [
       "<div>\n",
       "<style scoped>\n",
       "    .dataframe tbody tr th:only-of-type {\n",
       "        vertical-align: middle;\n",
       "    }\n",
       "\n",
       "    .dataframe tbody tr th {\n",
       "        vertical-align: top;\n",
       "    }\n",
       "\n",
       "    .dataframe thead th {\n",
       "        text-align: right;\n",
       "    }\n",
       "</style>\n",
       "<table border=\"1\" class=\"dataframe\">\n",
       "  <thead>\n",
       "    <tr style=\"text-align: right;\">\n",
       "      <th></th>\n",
       "      <th>datetime</th>\n",
       "      <th>value</th>\n",
       "      <th>datetime_obj</th>\n",
       "    </tr>\n",
       "  </thead>\n",
       "  <tbody>\n",
       "    <tr>\n",
       "      <th>4590</th>\n",
       "      <td>2023-07-11T06:00:00</td>\n",
       "      <td>0.195019</td>\n",
       "      <td>2023-07-11 06:00:00</td>\n",
       "    </tr>\n",
       "    <tr>\n",
       "      <th>5270</th>\n",
       "      <td>2023-08-08T14:00:00</td>\n",
       "      <td>0.221083</td>\n",
       "      <td>2023-08-08 14:00:00</td>\n",
       "    </tr>\n",
       "    <tr>\n",
       "      <th>726</th>\n",
       "      <td>2023-01-31T06:00:00</td>\n",
       "      <td>0.436098</td>\n",
       "      <td>2023-01-31 06:00:00</td>\n",
       "    </tr>\n",
       "    <tr>\n",
       "      <th>720</th>\n",
       "      <td>2023-01-31T00:00:00</td>\n",
       "      <td>0.595574</td>\n",
       "      <td>2023-01-31 00:00:00</td>\n",
       "    </tr>\n",
       "    <tr>\n",
       "      <th>6441</th>\n",
       "      <td>2023-09-26T09:00:00</td>\n",
       "      <td>0.240967</td>\n",
       "      <td>2023-09-26 09:00:00</td>\n",
       "    </tr>\n",
       "    <tr>\n",
       "      <th>3767</th>\n",
       "      <td>2023-06-06T23:00:00</td>\n",
       "      <td>0.448174</td>\n",
       "      <td>2023-06-06 23:00:00</td>\n",
       "    </tr>\n",
       "    <tr>\n",
       "      <th>575</th>\n",
       "      <td>2023-01-24T23:00:00</td>\n",
       "      <td>0.192230</td>\n",
       "      <td>2023-01-24 23:00:00</td>\n",
       "    </tr>\n",
       "    <tr>\n",
       "      <th>4584</th>\n",
       "      <td>2023-07-11T00:00:00</td>\n",
       "      <td>0.588739</td>\n",
       "      <td>2023-07-11 00:00:00</td>\n",
       "    </tr>\n",
       "    <tr>\n",
       "      <th>8639</th>\n",
       "      <td>2023-12-26T23:00:00</td>\n",
       "      <td>0.367091</td>\n",
       "      <td>2023-12-26 23:00:00</td>\n",
       "    </tr>\n",
       "    <tr>\n",
       "      <th>889</th>\n",
       "      <td>2023-02-07T01:00:00</td>\n",
       "      <td>0.174590</td>\n",
       "      <td>2023-02-07 01:00:00</td>\n",
       "    </tr>\n",
       "  </tbody>\n",
       "</table>\n",
       "</div>"
      ],
      "text/plain": [
       "                 datetime     value        datetime_obj\n",
       "4590  2023-07-11T06:00:00  0.195019 2023-07-11 06:00:00\n",
       "5270  2023-08-08T14:00:00  0.221083 2023-08-08 14:00:00\n",
       "726   2023-01-31T06:00:00  0.436098 2023-01-31 06:00:00\n",
       "720   2023-01-31T00:00:00  0.595574 2023-01-31 00:00:00\n",
       "6441  2023-09-26T09:00:00  0.240967 2023-09-26 09:00:00\n",
       "3767  2023-06-06T23:00:00  0.448174 2023-06-06 23:00:00\n",
       "575   2023-01-24T23:00:00  0.192230 2023-01-24 23:00:00\n",
       "4584  2023-07-11T00:00:00  0.588739 2023-07-11 00:00:00\n",
       "8639  2023-12-26T23:00:00  0.367091 2023-12-26 23:00:00\n",
       "889   2023-02-07T01:00:00  0.174590 2023-02-07 01:00:00"
      ]
     },
     "execution_count": 8,
     "metadata": {},
     "output_type": "execute_result"
    }
   ],
   "source": [
    "df_tuesday.sample(10)"
   ]
  },
  {
   "cell_type": "code",
   "execution_count": 6,
   "metadata": {},
   "outputs": [
    {
     "data": {
      "text/plain": [
       "624.257497129683"
      ]
     },
     "execution_count": 6,
     "metadata": {},
     "output_type": "execute_result"
    }
   ],
   "source": [
    "df_tuesday['value'].sum()"
   ]
  },
  {
   "cell_type": "code",
   "execution_count": 9,
   "metadata": {},
   "outputs": [
    {
     "data": {
      "text/plain": [
       "624"
      ]
     },
     "execution_count": 9,
     "metadata": {},
     "output_type": "execute_result"
    }
   ],
   "source": [
    "round(df_tuesday['value'].sum())"
   ]
  }
 ],
 "metadata": {
  "kernelspec": {
   "display_name": "Python 3",
   "language": "python",
   "name": "python3"
  },
  "language_info": {
   "codemirror_mode": {
    "name": "ipython",
    "version": 3
   },
   "file_extension": ".py",
   "mimetype": "text/x-python",
   "name": "python",
   "nbconvert_exporter": "python",
   "pygments_lexer": "ipython3",
   "version": "3.12.0"
  }
 },
 "nbformat": 4,
 "nbformat_minor": 2
}
