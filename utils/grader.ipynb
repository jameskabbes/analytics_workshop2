{
 "cells": [
  {
   "cell_type": "code",
   "execution_count": 87,
   "metadata": {},
   "outputs": [],
   "source": [
    "from pathlib import Path\n",
    "import pandas as pd"
   ]
  },
  {
   "cell_type": "code",
   "execution_count": 88,
   "metadata": {},
   "outputs": [],
   "source": [
    "submissions_path = Path('../data/John Deere Analytics Workshop.csv')\n",
    "df_submissions = pd.read_csv(submissions_path)"
   ]
  },
  {
   "cell_type": "code",
   "execution_count": 89,
   "metadata": {},
   "outputs": [],
   "source": [
    "teams_and_pins_path = Path('../data/submission_pins.csv')\n",
    "df_teams_and_pins = pd.read_csv(teams_and_pins_path)"
   ]
  },
  {
   "cell_type": "markdown",
   "metadata": {},
   "source": [
    "only keep rows with valid pins"
   ]
  },
  {
   "cell_type": "code",
   "execution_count": 90,
   "metadata": {},
   "outputs": [],
   "source": [
    "df = df_submissions.merge(df_teams_and_pins, how='inner', left_on='Submission Pin', right_on='pin')"
   ]
  },
  {
   "cell_type": "markdown",
   "metadata": {},
   "source": [
    "make a datetime column"
   ]
  },
  {
   "cell_type": "code",
   "execution_count": 91,
   "metadata": {},
   "outputs": [
    {
     "name": "stderr",
     "output_type": "stream",
     "text": [
      "/var/folders/dj/_mwbb77n38zgmcn3yx6m2ff00000gn/T/ipykernel_30954/3641142192.py:1: FutureWarning: Parsed string \"2024/03/27 10:37:12 AM EST\" included an un-recognized timezone \"EST\". Dropping unrecognized timezones is deprecated; in a future version this will raise. Instead pass the string without the timezone, then use .tz_localize to convert to a recognized timezone.\n",
      "  df['datetime'] = pd.to_datetime(df['Timestamp'])\n"
     ]
    }
   ],
   "source": [
    "df['datetime'] = pd.to_datetime(df['Timestamp'])"
   ]
  },
  {
   "cell_type": "markdown",
   "metadata": {},
   "source": [
    "put most recent submissions first"
   ]
  },
  {
   "cell_type": "code",
   "execution_count": 92,
   "metadata": {},
   "outputs": [],
   "source": [
    "df.sort_values(by='datetime', inplace=True, ascending=False)"
   ]
  },
  {
   "cell_type": "markdown",
   "metadata": {},
   "source": [
    "only keep most recent submission per team"
   ]
  },
  {
   "cell_type": "code",
   "execution_count": 93,
   "metadata": {},
   "outputs": [],
   "source": [
    "df.drop_duplicates(subset='Submission Pin', keep='first', inplace=True)"
   ]
  },
  {
   "cell_type": "markdown",
   "metadata": {},
   "source": [
    "grade the submissions"
   ]
  },
  {
   "cell_type": "code",
   "execution_count": 94,
   "metadata": {},
   "outputs": [],
   "source": [
    "df_answers = pd.read_csv('../data/answers.csv')"
   ]
  },
  {
   "cell_type": "code",
   "execution_count": 95,
   "metadata": {},
   "outputs": [],
   "source": [
    "df['score'] = 0"
   ]
  },
  {
   "cell_type": "code",
   "execution_count": 96,
   "metadata": {},
   "outputs": [],
   "source": [
    "for question in df_answers['question']:\n",
    "\n",
    "    correct_answer = df_answers[ df_answers['question'] == question ]['answer'].values[0]\n",
    "\n",
    "    df_correct = df[ df[ 'Question '+str(question)] == correct_answer ]\n",
    "    df.loc[ df_correct.index, 'score' ] = df.loc[ df_correct.index, 'score' ]+1"
   ]
  },
  {
   "cell_type": "markdown",
   "metadata": {},
   "source": [
    "rank winner based on highest score and earliest submission"
   ]
  },
  {
   "cell_type": "code",
   "execution_count": 97,
   "metadata": {},
   "outputs": [],
   "source": [
    "df.sort_values(by=['score','datetime'], inplace=True, ascending=[False,True])"
   ]
  },
  {
   "cell_type": "code",
   "execution_count": 98,
   "metadata": {},
   "outputs": [
    {
     "data": {
      "text/html": [
       "<div>\n",
       "<style scoped>\n",
       "    .dataframe tbody tr th:only-of-type {\n",
       "        vertical-align: middle;\n",
       "    }\n",
       "\n",
       "    .dataframe tbody tr th {\n",
       "        vertical-align: top;\n",
       "    }\n",
       "\n",
       "    .dataframe thead th {\n",
       "        text-align: right;\n",
       "    }\n",
       "</style>\n",
       "<table border=\"1\" class=\"dataframe\">\n",
       "  <thead>\n",
       "    <tr style=\"text-align: right;\">\n",
       "      <th></th>\n",
       "      <th>Timestamp</th>\n",
       "      <th>Submission Pin</th>\n",
       "      <th>Question 1</th>\n",
       "      <th>Question 2</th>\n",
       "      <th>Question 3</th>\n",
       "      <th>Question 4</th>\n",
       "      <th>Question 5</th>\n",
       "      <th>Question 6</th>\n",
       "      <th>Question 7</th>\n",
       "      <th>Question 8</th>\n",
       "      <th>Question 9</th>\n",
       "      <th>Question 10</th>\n",
       "      <th>team</th>\n",
       "      <th>pin</th>\n",
       "      <th>datetime</th>\n",
       "      <th>score</th>\n",
       "    </tr>\n",
       "  </thead>\n",
       "  <tbody>\n",
       "    <tr>\n",
       "      <th>1</th>\n",
       "      <td>2024/03/27 10:37:54 AM EST</td>\n",
       "      <td>22785329</td>\n",
       "      <td>7368787.0</td>\n",
       "      <td>27.0</td>\n",
       "      <td>73.0</td>\n",
       "      <td>11.0</td>\n",
       "      <td>NaN</td>\n",
       "      <td>NaN</td>\n",
       "      <td>NaN</td>\n",
       "      <td>NaN</td>\n",
       "      <td>NaN</td>\n",
       "      <td>NaN</td>\n",
       "      <td>1</td>\n",
       "      <td>22785329</td>\n",
       "      <td>2024-03-27 10:37:54</td>\n",
       "      <td>4</td>\n",
       "    </tr>\n",
       "    <tr>\n",
       "      <th>2</th>\n",
       "      <td>2024/03/27 11:07:12 AM EST</td>\n",
       "      <td>21886983</td>\n",
       "      <td>NaN</td>\n",
       "      <td>NaN</td>\n",
       "      <td>NaN</td>\n",
       "      <td>11.0</td>\n",
       "      <td>624.0</td>\n",
       "      <td>34.0</td>\n",
       "      <td>206.0</td>\n",
       "      <td>NaN</td>\n",
       "      <td>NaN</td>\n",
       "      <td>NaN</td>\n",
       "      <td>2</td>\n",
       "      <td>21886983</td>\n",
       "      <td>2024-03-27 11:07:12</td>\n",
       "      <td>4</td>\n",
       "    </tr>\n",
       "    <tr>\n",
       "      <th>3</th>\n",
       "      <td>2024/03/27 11:11:32 AM EST</td>\n",
       "      <td>78915672</td>\n",
       "      <td>7368787.0</td>\n",
       "      <td>27.0</td>\n",
       "      <td>73.0</td>\n",
       "      <td>NaN</td>\n",
       "      <td>NaN</td>\n",
       "      <td>NaN</td>\n",
       "      <td>NaN</td>\n",
       "      <td>NaN</td>\n",
       "      <td>NaN</td>\n",
       "      <td>NaN</td>\n",
       "      <td>3</td>\n",
       "      <td>78915672</td>\n",
       "      <td>2024-03-27 11:11:32</td>\n",
       "      <td>3</td>\n",
       "    </tr>\n",
       "  </tbody>\n",
       "</table>\n",
       "</div>"
      ],
      "text/plain": [
       "                    Timestamp  Submission Pin  Question 1  Question 2  \\\n",
       "1  2024/03/27 10:37:54 AM EST        22785329   7368787.0        27.0   \n",
       "2  2024/03/27 11:07:12 AM EST        21886983         NaN         NaN   \n",
       "3  2024/03/27 11:11:32 AM EST        78915672   7368787.0        27.0   \n",
       "\n",
       "   Question 3  Question 4  Question 5  Question 6  Question 7  Question 8  \\\n",
       "1        73.0        11.0         NaN         NaN         NaN         NaN   \n",
       "2         NaN        11.0       624.0        34.0       206.0         NaN   \n",
       "3        73.0         NaN         NaN         NaN         NaN         NaN   \n",
       "\n",
       "   Question 9  Question 10  team       pin            datetime  score  \n",
       "1         NaN          NaN     1  22785329 2024-03-27 10:37:54      4  \n",
       "2         NaN          NaN     2  21886983 2024-03-27 11:07:12      4  \n",
       "3         NaN          NaN     3  78915672 2024-03-27 11:11:32      3  "
      ]
     },
     "execution_count": 98,
     "metadata": {},
     "output_type": "execute_result"
    }
   ],
   "source": [
    "df"
   ]
  }
 ],
 "metadata": {
  "kernelspec": {
   "display_name": "Python 3",
   "language": "python",
   "name": "python3"
  },
  "language_info": {
   "codemirror_mode": {
    "name": "ipython",
    "version": 3
   },
   "file_extension": ".py",
   "mimetype": "text/x-python",
   "name": "python",
   "nbconvert_exporter": "python",
   "pygments_lexer": "ipython3",
   "version": "3.12.0"
  }
 },
 "nbformat": 4,
 "nbformat_minor": 2
}
